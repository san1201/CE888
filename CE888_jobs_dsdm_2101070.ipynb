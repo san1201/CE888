{
 "cells": [
  {
   "cell_type": "code",
   "execution_count": 1,
   "metadata": {},
   "outputs": [
    {
     "ename": "ModuleNotFoundError",
     "evalue": "No module named 'dowhy'",
     "output_type": "error",
     "traceback": [
      "\u001b[1;31m---------------------------------------------------------------------------\u001b[0m",
      "\u001b[1;31mModuleNotFoundError\u001b[0m                       Traceback (most recent call last)",
      "\u001b[1;32m<ipython-input-1-2659d056ff93>\u001b[0m in \u001b[0;36m<module>\u001b[1;34m\u001b[0m\n\u001b[1;32m----> 1\u001b[1;33m \u001b[1;32mimport\u001b[0m \u001b[0mdowhy\u001b[0m\u001b[1;33m\u001b[0m\u001b[1;33m\u001b[0m\u001b[0m\n\u001b[0m\u001b[0;32m      2\u001b[0m \u001b[1;32mfrom\u001b[0m \u001b[0mdowhy\u001b[0m \u001b[1;32mimport\u001b[0m \u001b[0mCausalModel\u001b[0m\u001b[1;33m\u001b[0m\u001b[1;33m\u001b[0m\u001b[0m\n\u001b[0;32m      3\u001b[0m \u001b[1;32mimport\u001b[0m \u001b[0mpandas\u001b[0m \u001b[1;32mas\u001b[0m \u001b[0mpd\u001b[0m\u001b[1;33m\u001b[0m\u001b[1;33m\u001b[0m\u001b[0m\n\u001b[0;32m      4\u001b[0m \u001b[1;32mimport\u001b[0m \u001b[0mnumpy\u001b[0m \u001b[1;32mas\u001b[0m \u001b[0mnp\u001b[0m\u001b[1;33m\u001b[0m\u001b[1;33m\u001b[0m\u001b[0m\n\u001b[0;32m      5\u001b[0m \u001b[1;33m\u001b[0m\u001b[0m\n",
      "\u001b[1;31mModuleNotFoundError\u001b[0m: No module named 'dowhy'"
     ]
    }
   ],
   "source": [
    "import dowhy\n",
    "from dowhy import CausalModel\n",
    "import pandas as pd\n",
    "import numpy as np\n",
    "\n",
    "# read the Jobs dataset.\n",
    "import pandas as pd\n",
    " \n",
    "data= pd.read_csv(\"C:/Users/user/Desktop/jobs.csv\", header = None)\n",
    "col =  [\"t\", \"y\",\"e\"]\n",
    " \n",
    "for i in range(1,18):\n",
    "    col.append(\"x\"+str(i))\n",
    "data.columns = col\n",
    "data = data.astype({\"t\": bool})\n",
    "data.head()\n",
    "\n",
    "# Create a causal model from the data and the \"x\" variables as common causes.\n",
    "xs = \"\"\n",
    "for i in range(1,26):\n",
    "    xs += (\"x\"+str(i)+\"+\")\n",
    " \n",
    "model=CausalModel(\n",
    "        data = data,\n",
    "        treatment='t',\n",
    "        outcome='y',\n",
    "        common_causes=xs.split('+')\n",
    "        )\n",
    " \n",
    "#Identify the causal effect\n",
    "identified_estimand = model.identify_effect()\n",
    "\n",
    "data_1 = data[data[\"t\"]==1]\n",
    "data_0 = data[data[\"t\"]==0]\n",
    "print(\"ATE\", np.mean(data_1[\"y\"])- np.mean(data_0[\"y\"]))\n",
    "\n",
    "estimate = model.estimate_effect(identified_estimand, method_name=\"backdoor.propensity_score_weighting\")\n",
    "\n",
    "print(\"Causal Estimate is \" + str(estimate.value))"
   ]
  },
  {
   "cell_type": "code",
   "execution_count": null,
   "metadata": {},
   "outputs": [],
   "source": []
  }
 ],
 "metadata": {
  "kernelspec": {
   "display_name": "Python 3",
   "language": "python",
   "name": "python3"
  },
  "language_info": {
   "codemirror_mode": {
    "name": "ipython",
    "version": 3
   },
   "file_extension": ".py",
   "mimetype": "text/x-python",
   "name": "python",
   "nbconvert_exporter": "python",
   "pygments_lexer": "ipython3",
   "version": "3.6.10"
  }
 },
 "nbformat": 4,
 "nbformat_minor": 2
}
